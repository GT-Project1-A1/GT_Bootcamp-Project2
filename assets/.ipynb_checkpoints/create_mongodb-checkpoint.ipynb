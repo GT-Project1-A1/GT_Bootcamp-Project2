{
 "cells": [
  {
   "cell_type": "markdown",
   "metadata": {},
   "source": [
    "# Create the MongoDB"
   ]
  },
  {
   "cell_type": "markdown",
   "metadata": {},
   "source": [
    "### 1. Run dependencies"
   ]
  },
  {
   "cell_type": "code",
   "execution_count": 1,
   "metadata": {},
   "outputs": [],
   "source": [
    "# Dependencies\n",
    "import pandas as pd\n",
    "from pymongo import MongoClient\n",
    "import json\n",
    "import pymongo"
   ]
  },
  {
   "cell_type": "markdown",
   "metadata": {},
   "source": [
    "### 2. Define import function"
   ]
  },
  {
   "cell_type": "code",
   "execution_count": 2,
   "metadata": {
    "scrolled": true
   },
   "outputs": [],
   "source": [
    "# Where I got this code from: https://developer.mongodb.com/community/forums/t/import-csv-file-data-into-mongodb-using-python/15759\n",
    "\n",
    "def mongoimport(csv_path, db_name, coll_name, db_url='localhost', db_port=27017):\n",
    "    \"\"\" Imports a csv file at path csv_name to a mongo colection\n",
    "    returns: count of the documants in the new collection\n",
    "    \"\"\"\n",
    "    client = MongoClient(db_url, db_port)\n",
    "    \n",
    "    # Define database and collection\n",
    "    db = client[db_name]\n",
    "    coll = db[coll_name]\n",
    "    \n",
    "    data = pd.read_csv(csv_path)\n",
    "    payload = json.loads(data.to_json(orient='records'))\n",
    "    \n",
    "    # Drop any pre-existing collection\n",
    "    coll.drop()\n",
    "    coll.insert_many(payload)"
   ]
  },
  {
   "cell_type": "markdown",
   "metadata": {},
   "source": [
    "### 3. Add all CSV files into Mongo"
   ]
  },
  {
   "cell_type": "code",
   "execution_count": 3,
   "metadata": {
    "scrolled": true
   },
   "outputs": [],
   "source": [
    "# All three presidential election csv file paths\n",
    "csv_path = [\"data/president_county_candidate.csv\", \"data/president_county.csv\", \"data/president_state.csv\", \"data/counties_topojson.csv\"]\n",
    "\n",
    "# Define db name\n",
    "db_name = \"election2020\"\n",
    "\n",
    "# Define collection names\n",
    "coll_name = [\"pCandidate\", \"pCounty\", \"pState\",\"countyIds\"]\n",
    "\n",
    "\n",
    "for index in range(0,len(csv_path)):\n",
    "    mongoimport(csv_path[index], db_name, coll_name[index], db_url='localhost', db_port=27017)"
   ]
  },
  {
   "cell_type": "markdown",
   "metadata": {},
   "source": [
    "### 4. Test to ensure database loaded properly"
   ]
  },
  {
   "cell_type": "code",
   "execution_count": 4,
   "metadata": {},
   "outputs": [
    {
     "name": "stdout",
     "output_type": "stream",
     "text": [
      "{'_id': ObjectId('60f0da5de3c510961b8a7392'), 'id   ': 1000.0, 'name': 'Alabama'}\n",
      "\n",
      "\n",
      "{'_id': ObjectId('60f0da5de3c510961b8a92c9'), 'state': 'Delaware', 'total_votes': 504010}\n",
      "\n",
      "\n",
      "{'_id': ObjectId('60f0da5de3c510961b8a80af'), 'state': 'Delaware', 'county': 'Kent County', 'current_votes': 87025, 'total_votes': 87025, 'percent': 100}\n"
     ]
    }
   ],
   "source": [
    "# The default port used by MongoDB is 27017\n",
    "# https://docs.mongodb.com/manual/reference/default-mongodb-port/\n",
    "conn = 'mongodb://localhost:27017'\n",
    "client = pymongo.MongoClient(conn)\n",
    "\n",
    "# Define the 'classDB' database in Mongo\n",
    "db = client.election2020\n",
    "\n",
    "# Query all candidate info and show first row\n",
    "candidate = db.pCandidate.find_one()\n",
    "print(candidate)\n",
    "print(\"\\n\")\n",
    "\n",
    "# Query all state info and show first row\n",
    "state = db.pState.find_one()\n",
    "print(state)\n",
    "print(\"\\n\")\n",
    "\n",
    "#Query all county info and show first row\n",
    "county = db.pCounty.find_one()\n",
    "print(county)\n"
   ]
  },
  {
   "cell_type": "markdown",
   "metadata": {},
   "source": [
    "### 5. Verify Answer"
   ]
  },
  {
   "cell_type": "code",
   "execution_count": 5,
   "metadata": {},
   "outputs": [
    {
     "name": "stdout",
     "output_type": "stream",
     "text": [
      "{'_id': ObjectId('60e9fce6cf5039b5862a7e8c'), 'state': 'Delaware', 'county': 'Kent County', 'candidate': 'Joe Biden', 'party': 'DEM', 'total_votes': 44552, 'won': True}\n",
      "\n",
      "\n",
      "{'_id': ObjectId('60e9fce6cf5039b5862b0e58'), 'state': 'Delaware', 'total_votes': 504010}\n",
      "\n",
      "\n",
      "{'_id': ObjectId('60e9fce6cf5039b5862afc3e'), 'state': 'Delaware', 'county': 'Kent County', 'current_votes': 87025, 'total_votes': 87025, 'percent': 100}\n"
     ]
    }
   ],
   "source": [
    "# This is the correct answer\n",
    "\n",
    "print(\"{'_id': ObjectId('60e9fce6cf5039b5862a7e8c'), 'state': 'Delaware', 'county': 'Kent County', 'candidate': 'Joe Biden', 'party': 'DEM', 'total_votes': 44552, 'won': True}\")\n",
    "print(\"\\n\")\n",
    "print(\"{'_id': ObjectId('60e9fce6cf5039b5862b0e58'), 'state': 'Delaware', 'total_votes': 504010}\")\n",
    "print(\"\\n\")\n",
    "print(\"{'_id': ObjectId('60e9fce6cf5039b5862afc3e'), 'state': 'Delaware', 'county': 'Kent County', 'current_votes': 87025, 'total_votes': 87025, 'percent': 100}\")"
   ]
  },
  {
   "cell_type": "code",
   "execution_count": null,
   "metadata": {},
   "outputs": [],
   "source": []
  }
 ],
 "metadata": {
  "kernelspec": {
   "display_name": "Python [conda env:PythonData] *",
   "language": "python",
   "name": "conda-env-PythonData-py"
  },
  "language_info": {
   "codemirror_mode": {
    "name": "ipython",
    "version": 3
   },
   "file_extension": ".py",
   "mimetype": "text/x-python",
   "name": "python",
   "nbconvert_exporter": "python",
   "pygments_lexer": "ipython3",
   "version": "3.6.10"
  }
 },
 "nbformat": 4,
 "nbformat_minor": 4
}
